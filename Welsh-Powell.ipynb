{
 "cells": [
  {
   "cell_type": "markdown",
   "metadata": {},
   "source": [
    "Implementation of the Welsh-Powell Algorithm\n",
    "\n",
    "Sources:\n",
    "\n",
    "Watson, Gordon. “Comparing the Efficiency of Welsh-Powell Algorithm and Basic Greedy Algorithm for Graph Coloring - Graph Theory.” CopyProgramming, 15 May 2023, copyprogramming.com/howto/why-is-welsh-powell-algorithm-better-than-the-basic-greedy-algorithm-for-graph-coloring.\n",
    "\n",
    "“Welsh Powell Graph Colouring Algorithm.” GeeksforGeeks, GeeksforGeeks, 29 Oct. 2019, www.geeksforgeeks.org/welsh-powell-graph-colouring-algorithm/.\n",
    "\n",
    "“Vertex Coloring: The Welsh Powell Algorithm.” Kleemans.Ch, www.kleemans.ch/static/fourcolors/welsh-powell.pdf. Accessed 16 Oct. 2023.\n",
    "\n",
    "“Graph Coloring Using Greedy Algorithm.” GeeksforGeeks, GeeksforGeeks, 10 Oct. 2023, www.geeksforgeeks.org/graph-coloring-set-2-greedy-algorithm/?ref=ml_lbp\\%27."
   ]
  },
  {
   "cell_type": "markdown",
   "metadata": {},
   "source": [
    "The Welsh Powell Algorithm is a type of greedy algorithm that is used for determining the fewest number of colors that can be used to color the vertices of a graph so there will be no two adjacent vertices sharing a color. What differentiates this algorithm from a typical greedy algorithm, is that the Welsh Powell Algorithm sorts all of the vertices by descending degree before beginning to assign them colors. This approach helps to get the vertices with the highest degree taken care of early on, since the higher degree they are, the more likely they are to need a new color. \n",
    "\n",
    "Once the vertices are sorted by descending degree, the algorithm will go down the list of vertices. The first one that it gets to that doesn't already have a color assigned to it, will be assigned the color that vertices will be assigned that cycle. From there, any vertex that is not adjacent to any of the other vertices that were colored that round, will be colored the same color as the vertices in that cycle. This cycle of giving new colors to vertices that are already adjacent to previously assigned colors and are not adjacent to each other, continues until every vertex has been colored. \n",
    "\n",
    "After every vertex has been colored using the Welsh Powell algorithm, K, the smallest number of colors that could be used to color this graph so that no two adjacent vertices had the same color, will be found."
   ]
  },
  {
   "cell_type": "code",
   "execution_count": null,
   "metadata": {},
   "outputs": [],
   "source": [
    "#welsh powell algorithm\n",
    "#implemented using an edge_list\n",
    "\n",
    "def addEdge(edge_list, vertex_1, vertex_2):\n",
    "    edge_list[vertex_1].append(vertex_2) #adds vertex_2 to vertex_1s adjacencies\n",
    "    edge_list[vertex_2].append(vertex_1) #adds vertex_1 to vertex_2s adjacencies\n",
    "\n",
    "    return edge_list #returns the entire edge list\n",
    "\n",
    "\n",
    "def welsh_powell(edge_list, num_vertices):\n",
    "    colors = [-1] * num_vertices #create an array of length num_vertices filled with -1s; this array will hold the colors for each vertex\n",
    "    available_colors = [False] * num_vertices #create an array of length num_vertices filled with False; this array will hold which colors are available for that vertex\n",
    "    \n",
    "    #add sorting of vertices here\n",
    "\n",
    "    colors[0] = 0 #assign the first vertex to the first color\n",
    "\n",
    "    for vertex in range(1, num_vertices): #loop through all of the vertices except the first one, since that one is already color 0\n",
    "        for adjacent_vertex in edge_list[vertex]: #loop through all of the adjacencies for that vertex\n",
    "            if colors[adjacent_vertex] != -1: #if the color is not taken by any of the adjacent vertices\n",
    "                available_colors[colors[adjacent_vertex]] = True #then it is an available color for this vertex\n",
    "        \n",
    "        lowest_color = 0\n",
    "        \n",
    "        while lowest_color < num_vertices:\n",
    "            if available_colors[lowest_color] == False:\n",
    "                break\n",
    "            lowest_color += 1\n",
    "        \n",
    "        colors[vertex] = lowest_color\n",
    "        available_colors = [False] * num_vertices # reset available colors for next loop\n",
    "    \n",
    "    for vertex in range(num_vertices):\n",
    "        print(f\"Vertex {vertex} is adjacent to vertices {edge_list[vertex]}\")\n",
    "\n",
    "    for vertex in range(num_vertices):\n",
    "        print(f\"Vertex {vertex} is colored {colors[vertex]}\") #print all of the vertices and their color"
   ]
  }
 ],
 "metadata": {
  "kernelspec": {
   "display_name": "Python 3",
   "language": "python",
   "name": "python3"
  },
  "language_info": {
   "name": "python",
   "version": "3.11.6"
  }
 },
 "nbformat": 4,
 "nbformat_minor": 2
}
