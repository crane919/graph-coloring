{
 "cells": [
  {
   "cell_type": "markdown",
   "metadata": {},
   "source": [
    "Implementations of simple greedy vs brute force algorithms; used to demonstrate real run time"
   ]
  },
  {
   "cell_type": "code",
   "execution_count": 9,
   "metadata": {},
   "outputs": [],
   "source": [
    "#Greedy algorithm\n",
    "#implemented using an edge_list\n",
    "\n",
    "def addEdge(edge_list, vertex_1, vertex_2):\n",
    "    edge_list[vertex_1].append(vertex_2) #adds vertex_2 to vertex_1s adjacencies\n",
    "    edge_list[vertex_2].append(vertex_1) #adds vertex_1 to vertex_2s adjacencies\n",
    "\n",
    "    return edge_list #returns the entire edge list\n",
    "\n",
    "def greedy(edge_list, num_vertices):\n",
    "    colors = [-1] * num_vertices #create an array of length num_vertices filled with -1s; this array will hold the colors for each vertex\n",
    "    available_colors = [False] * num_vertices #create an array of length num_vertices filled with False; this array will hold which colors are available for that vertex\n",
    "\n",
    "\n",
    "    colors[0] = 0 #assign the first vertex to the first color\n",
    "\n",
    "    for vertex in range(1, num_vertices): #loop through all of the vertices except the first one, since that one is already color 0\n",
    "        for adjacent_vertex in edge_list[vertex]: #loop through all of the adjacencies for that vertex\n",
    "            if colors[adjacent_vertex] != -1: #if the color is not taken by any of the adjacent vertices\n",
    "                available_colors[colors[adjacent_vertex]] = True #then it is an available color for this vertex\n",
    "        \n",
    "        lowest_color = 0\n",
    "        \n",
    "        while lowest_color < num_vertices:\n",
    "            if available_colors[lowest_color] == False:\n",
    "                break\n",
    "            lowest_color += 1\n",
    "        \n",
    "        colors[vertex] = lowest_color\n",
    "        available_colors = [False] * num_vertices # reset available colors for next loop\n",
    "    \n",
    "    for vertex in range(num_vertices):\n",
    "        print(f\"Vertex {vertex} is adjacent to vertices {edge_list[vertex]}\")\n",
    "\n",
    "    for vertex in range(num_vertices):\n",
    "        print(f\"Vertex {vertex} is colored {colors[vertex]}\") #print all of the vertices and their color"
   ]
  },
  {
   "cell_type": "code",
   "execution_count": null,
   "metadata": {},
   "outputs": [],
   "source": [
    "#Brute Force Algorithm\n",
    "#Implemented using an adjacency_matrix\n",
    "def add_edge(adjacency_matrix, vertex_1, vertex_2):\n",
    "    adjacency_matrix[vertex_1][vertex_2] == 1\n",
    "    adjacency_matrix[vertex_2][vertex_1] == 1"
   ]
  },
  {
   "cell_type": "code",
   "execution_count": 10,
   "metadata": {},
   "outputs": [
    {
     "name": "stdout",
     "output_type": "stream",
     "text": [
      "Vertex 0 is adjacent to vertices [1, 2]\n",
      "Vertex 1 is adjacent to vertices [0, 2, 3]\n",
      "Vertex 2 is adjacent to vertices [0, 1, 3]\n",
      "Vertex 3 is adjacent to vertices [1, 2, 4]\n",
      "Vertex 4 is adjacent to vertices [3]\n",
      "Vertex 0 is colored 0\n",
      "Vertex 1 is colored 1\n",
      "Vertex 2 is colored 2\n",
      "Vertex 3 is colored 0\n",
      "Vertex 4 is colored 1\n"
     ]
    }
   ],
   "source": [
    "if __name__ == '__main__':\n",
    "     \n",
    "    g1 = [[] for _ in range(5)] #create empty edge_list for five vertices\n",
    "    g1 = addEdge(g1, 0, 1)\n",
    "    g1 = addEdge(g1, 0, 2)\n",
    "    g1 = addEdge(g1, 1, 2)\n",
    "    g1 = addEdge(g1, 1, 3)\n",
    "    g1 = addEdge(g1, 2, 3)\n",
    "    g1 = addEdge(g1, 3, 4)\n",
    "    greedy(g1, 5)\n",
    "\n",
    "    g2 = [[0] for _ in range(5)] * 5 #create an empty adjacency_matrix for five vertices\n",
    "        "
   ]
  }
 ],
 "metadata": {
  "kernelspec": {
   "display_name": "Python 3",
   "language": "python",
   "name": "python3"
  },
  "language_info": {
   "codemirror_mode": {
    "name": "ipython",
    "version": 3
   },
   "file_extension": ".py",
   "mimetype": "text/x-python",
   "name": "python",
   "nbconvert_exporter": "python",
   "pygments_lexer": "ipython3",
   "version": "3.11.6"
  }
 },
 "nbformat": 4,
 "nbformat_minor": 2
}
