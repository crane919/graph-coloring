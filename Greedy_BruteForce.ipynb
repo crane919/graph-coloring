{
 "cells": [
  {
   "cell_type": "markdown",
   "metadata": {},
   "source": [
    "Implementations of simple greedy vs brute force algorithms; used to demonstrate real run time"
   ]
  },
  {
   "cell_type": "code",
   "execution_count": 58,
   "metadata": {},
   "outputs": [],
   "source": [
    "#Greedy algorithm\n",
    "#implemented using an edge_list\n",
    "\n",
    "def addEdge(edge_list, vertex_1, vertex_2):\n",
    "    edge_list[vertex_1].append(vertex_2) #adds vertex_2 to vertex_1s adjacencies\n",
    "    edge_list[vertex_2].append(vertex_1) #adds vertex_1 to vertex_2s adjacencies\n",
    "\n",
    "    return edge_list #returns the entire edge list\n",
    "\n",
    "def greedy(edge_list):\n",
    "    colors = [-1] * len(edge_list) #create an array of length num_vertices filled with -1s; this array will hold the colors for each vertex\n",
    "    available_colors = [False] * len(edge_list) #create an array of length num_vertices filled with False; this array will hold which colors are available for that vertex\n",
    "\n",
    "\n",
    "    colors[0] = 0 #assign the first vertex to the first color\n",
    "\n",
    "    for vertex in range(1, len(edge_list)): #loop through all of the vertices except the first one, since that one is already color 0\n",
    "        for adjacent_vertex in edge_list[vertex]: #loop through all of the adjacencies for that vertex\n",
    "            if colors[adjacent_vertex] != -1: #if the color is not taken by any of the adjacent vertices\n",
    "                available_colors[colors[adjacent_vertex]] = True #then it is an available color for this vertex\n",
    "        \n",
    "        lowest_color = 0\n",
    "        \n",
    "        while lowest_color < len(edge_list):\n",
    "            if available_colors[lowest_color] == False:\n",
    "                break\n",
    "            lowest_color += 1\n",
    "        \n",
    "        colors[vertex] = lowest_color\n",
    "        available_colors = [False] * len(edge_list) # reset available colors for next loop\n",
    "    \n",
    "    for vertex in range(len(edge_list)):\n",
    "        print(f\"Vertex {vertex} is adjacent to vertices {edge_list[vertex]}\")\n",
    "\n",
    "    for vertex in range(len(edge_list)):\n",
    "        print(f\"Vertex {vertex} is colored {colors[vertex]}\") #print all of the vertices and their color"
   ]
  },
  {
   "cell_type": "code",
   "execution_count": 69,
   "metadata": {},
   "outputs": [],
   "source": [
    "import itertools\n",
    "import math\n",
    "#Brute Force Algorithm\n",
    "#Implemented using an adjacency_matrix\n",
    "def add_edge(adjacency_matrix, vertex_1, vertex_2):\n",
    "    adjacency_matrix[vertex_1][vertex_2] == 1\n",
    "    adjacency_matrix[vertex_2][vertex_1] == 1\n",
    "\n",
    "def isValidColoring(adjacency_matrix, vertex_colors):\n",
    "    for i in range(int(math.sqrt(len(adjacency_matrix)))): #loop through each vertex\n",
    "        for j in range(int(math.sqrt(len(adjacency_matrix)))): #loop through all of the other vertices that aren't our current vertex\n",
    "            if adjacency_matrix[i][j] == 1 and vertex_colors[i] == vertex_colors[j]: #if they are adjacent the same color\n",
    "                return False #this is not a valid coloring\n",
    "    return True #if you loop through everything and never run into a problem, it is a valid coloring\n",
    "\n",
    "def bruteForce(adjacency_matrix, num_colors):\n",
    "    all_vertex_colors = allPossibleColorings(adjacency_matrix, num_colors)\n",
    "\n",
    "    for i in range(int(math.sqrt(len(adjacency_matrix)))):\n",
    "        for j in range(int(math.sqrt(len(adjacency_matrix)))):\n",
    "            if adjacency_matrix[i][j] == 1:\n",
    "                print(f\"Vertex {i} is adjacent to vertex {j}\")\n",
    "    \n",
    "    for possible_coloring in all_vertex_colors:\n",
    "        if isValidColoring(adjacency_matrix, possible_coloring) == True:\n",
    "            print(\"Valid Coloring Found!\")\n",
    "            for vertex in range(int(math.sqrt(len(adjacency_matrix)))):\n",
    "                print(f\"Vertex {vertex} is colored {possible_coloring[vertex]}\")\n",
    "            return\n",
    "    \n",
    "    print(\"No Valid Coloring with {num_colors} colors\")\n",
    "\n",
    "\n",
    "def allPossibleColorings(adjacency_matrix, num_colors):\n",
    "    all_vertex_colors = []\n",
    "    colors = [i for i in range(num_colors)]\n",
    "\n",
    "    for p in itertools.product(colors, repeat=int(math.sqrt(len(adjacency_matrix)))):\n",
    "        all_vertex_colors.append(p)\n",
    "    \n",
    "    return all_vertex_colors\n",
    "\n",
    "\n"
   ]
  },
  {
   "cell_type": "code",
   "execution_count": 72,
   "metadata": {},
   "outputs": [
    {
     "name": "stdout",
     "output_type": "stream",
     "text": [
      "Vertex 0 is adjacent to vertex 1\n",
      "Vertex 2 is adjacent to vertex 2\n",
      "No Valid Coloring with {num_colors} colors\n"
     ]
    }
   ],
   "source": [
    "if __name__ == '__main__':\n",
    "     \n",
    "    # g1 = [[] for _ in range(5)] #create empty edge_list for five vertices\n",
    "    # g1 = addEdge(g1, 0, 1)\n",
    "    # g1 = addEdge(g1, 0, 2)\n",
    "    # g1 = addEdge(g1, 1, 2)\n",
    "    # g1 = addEdge(g1, 1, 3)\n",
    "    # g1 = addEdge(g1, 2, 3)\n",
    "    # g1 = addEdge(g1, 3, 4)\n",
    "    # greedy(g1)\n",
    "\n",
    "    g2 = [[0] for _ in range(3)] * 3 #create an empty adjacency_matrix for three vertices\n",
    "    g2 = addEdge(g2, 0, 1)\n",
    "    g2 = addEdge(g2, 0, 2)\n",
    "    g2 = addEdge(g2, 1, 2)\n",
    "    bruteForce(g2, 3)\n",
    "    \n",
    "        "
   ]
  }
 ],
 "metadata": {
  "kernelspec": {
   "display_name": "Python 3",
   "language": "python",
   "name": "python3"
  },
  "language_info": {
   "codemirror_mode": {
    "name": "ipython",
    "version": 3
   },
   "file_extension": ".py",
   "mimetype": "text/x-python",
   "name": "python",
   "nbconvert_exporter": "python",
   "pygments_lexer": "ipython3",
   "version": "3.11.6"
  }
 },
 "nbformat": 4,
 "nbformat_minor": 2
}
