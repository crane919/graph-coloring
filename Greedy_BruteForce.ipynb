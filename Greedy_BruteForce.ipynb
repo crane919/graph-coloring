{
 "cells": [
  {
   "cell_type": "markdown",
   "metadata": {},
   "source": [
    "Implementations of simple greedy vs brute force algorithms; used to demonstrate real run time"
   ]
  },
  {
   "cell_type": "code",
   "execution_count": 4,
   "metadata": {},
   "outputs": [
    {
     "name": "stdout",
     "output_type": "stream",
     "text": [
      "Vertex 0 is colored 0\n",
      "Vertex 1 is colored 1\n",
      "Vertex 2 is colored 2\n",
      "Vertex 3 is colored 0\n",
      "Vertex 4 is colored 1\n"
     ]
    }
   ],
   "source": [
    "#Greedy algorithm\n",
    "\n",
    "def addEdge(adjacent, vertex_1, vertex_2):\n",
    "    adjacent[vertex_1].append(vertex_2) #adds vertex_2 to vertex_1s adjacencies\n",
    "    adjacent[vertex_2].append(vertex_1) #adds vertex_1 to vertex_2s adjacencies\n",
    "\n",
    "    return adjacent #returns adjacencies\n",
    "\n",
    "def greedy(adjacent, num_vertices):\n",
    "    colors = [-1] * num_vertices #create an array of length num_vertices filled with -1s; this array will hold the colors for each vertex\n",
    "    available_colors = [False] * num_vertices #create an array of length num_vertices filled with False; this array will hold which colors are available for that vertex\n",
    "\n",
    "\n",
    "    colors[0] = 0 #assign the first vertex to the first color\n",
    "\n",
    "    for vertex in range(1, num_vertices): #loop through all of the vertices\n",
    "        for adj_v in adjacent[vertex]: #loop through all of the adjacencies for that vertex\n",
    "            if colors[adj_v] != -1: #if the color is not taken by any of the adjacent vertices\n",
    "                available_colors[colors[adj_v]] = True #then it is an available color for this vertex\n",
    "        \n",
    "        lowest_color = 0\n",
    "        \n",
    "        while lowest_color < num_vertices:\n",
    "            if available_colors[lowest_color] == False:\n",
    "                break\n",
    "            lowest_color += 1\n",
    "        \n",
    "        colors[vertex] = lowest_color\n",
    "        available_colors = [False] * num_vertices # reset available colors for next loop\n",
    "\n",
    "        # for adj_v in adjacent[vertex]: #loop back through the adjacenices\n",
    "        #     if colors[adj_v] != -1: #find all of the values we changed to True earlier\n",
    "        #         available_colors[colors[adj_v]] = False #change them back to false to reset the available_colors array\n",
    "\n",
    "    for vertex in range(num_vertices):\n",
    "        print(f\"Vertex {vertex} is colored {colors[vertex]}\") #print all of the vertices and their color\n",
    "\n",
    "if __name__ == '__main__':\n",
    "     \n",
    "    g1 = [[] for _ in range(5)]\n",
    "    g1 = addEdge(g1, 0, 1)\n",
    "    g1 = addEdge(g1, 0, 2)\n",
    "    g1 = addEdge(g1, 1, 2)\n",
    "    g1 = addEdge(g1, 1, 3)\n",
    "    g1 = addEdge(g1, 2, 3)\n",
    "    g1 = addEdge(g1, 3, 4)\n",
    "    greedy(g1, 5)"
   ]
  }
 ],
 "metadata": {
  "kernelspec": {
   "display_name": "Python 3",
   "language": "python",
   "name": "python3"
  },
  "language_info": {
   "codemirror_mode": {
    "name": "ipython",
    "version": 3
   },
   "file_extension": ".py",
   "mimetype": "text/x-python",
   "name": "python",
   "nbconvert_exporter": "python",
   "pygments_lexer": "ipython3",
   "version": "3.11.6"
  }
 },
 "nbformat": 4,
 "nbformat_minor": 2
}
