{
 "cells": [
  {
   "cell_type": "markdown",
   "metadata": {},
   "source": [
    "# Graph Theory Deep Dive - Graph Coloring Using Greedy Algorithms\n",
    "### Evelyn Kessler, Elin O'Neill, Maya Cranor\n",
    "#### October 22, 2023"
   ]
  },
  {
   "cell_type": "markdown",
   "metadata": {},
   "source": [
    "Graph coloring is the process of coloring the vertices of a graph such that no two adjacent (i.e. connected by an edge) vertices are the same color. Of course, it would be easy to color a graph with n vertices n different colors. The goal of graph coloring is to color the vertices with the fewest number of colors possible; the minimum number of colors needed to color a graph is called its chromatic number [5?]. Graph coloring has a stunning variety of applications, including but not limited to scheduling and timetable problems (such as creating the Olin class schedule), solving Sudoku puzzles, coloring physical maps, register allocation, and assigning frequencies for mobile radios [5?].\n",
    "\n",
    "For example, ... (add an example of how graph coloring could be used for some of the examples above.)\n",
    "\n",
    "Graph coloring is an NP-Complete problem, meaning that no efficient solution algorithm has yet been found. NP, or nondeterministic polynomial, problems are problems where the solution can be guessed and verified in polynomial time, but not solved in polynomial time like easy (or tractable) problems [9?]. This means that there is no one perfect algorithm for graph coloring; many algorithms exist with different efficiencies and trade-offs. Generally, these algorithms try to balance the number of colors used to color the graph with a relatively efficient run time and computational complexity. One class of algorithms is known as \"greedy\" algorithms. \n",
    "\n",
    "In this paper we will begin by taking a quick look at a brute force approach; we will understand mathematically (and see practically) why the brute force approach quickly becomes too computationally expensive for most uses. We will compare the inefficient (but perfectly accurate) brute force approach to the highly efficient (but lacking some accuracy) greedy approach, which is one of the least computationally expensive approaches and can run quickly even on high complexity graphs. The basic greedy approach moves through graphs in whatever order the vertices are given. This means that the bsic greedy algorithm can vary dramatically depending on the order given, as shown below. \n",
    "\n",
    "There are a variety of algorithms that increase the accuracy (a.k.a decrease the number of colors needed) of the basic greedy approach by applying an ordering to the vertices. We will investigate and contrast two such algorithms; the Welsh Powell algorithm which orders the vertices statically from highest to lowest degree and the DSatur algorithm which orders the vertices dynamically from highest to lowest saturation (i.e. the number of adjacent colored vertices)."
   ]
  },
  {
   "cell_type": "markdown",
   "metadata": {},
   "source": [
    "### The Brute Force Approach\n",
    "\n",
    "Short intro paragraph here\n",
    "\n",
    "#### Functions: Brute Force\n",
    "##### isValidColoring\n",
    "Arguments: edge_list, vertex_colors \\\n",
    "Return: True/False\n",
    "\n",
    "This function takes in a graph and a possible coloring for that graph, and returns whether that is a valid coloring (i.e. no adjacent vertices are the same color.)\n",
    "\n",
    "1. For every vertex in the list:\n",
    "    1a. Check if any of the adjacent vertices are the same color as that vertex. If so, return False.\n",
    "2. If you get through every vertex and every adjacency and none of them have issues, then return True.\n",
    "\n",
    "##### bruteForce\n",
    "Arguments: edge_list \\\n",
    "Return: color_dict, run_time\n",
    "\n",
    "This function finds a valid coloring with a minimum number of colors for any graph using a brute force approach. It begins by looking at coloring the graph with 1 color; if it can't find a valid coloring, it tries 2 colors, then 3 colors, etc. For each number of colors, it calculates all possible ways to color the graph with that many colors and then checks whether any of those ways are valid.\n",
    "\n",
    "1. Start the timer and initialize the number of colors in the graph at 1.\n",
    "2. Calculate all possible colorings for 1 coloring. \n",
    "3. For each possible coloring, check if it is a valid coloring of the graph. \n",
    "    3a. If it is; end the timer, create the color dictionary, calculate the run time, and return the color dictionary and run time.\n",
    "4. If none of the colorings are valid, increase the number of colors in the graph by 1 and repeat from Step 2 with the new number of colorings. Continue until you find the first valid coloring.\n",
    "\n",
    "##### allPossibleColorings\n",
    "Arguments: edge_list, num_colors \\\n",
    "Return: list of colors\n",
    "\n",
    "This graph finds all of the possible colorings with a certain number of colors for a graph. It accomplishes this using a \"permutations with repetition\" approach using the itertools library, where the colorings are represented as a list of numbers (0 is some color, 1 is another color, 2 is another color, etc) of the same legnth as the number of vertices in the graph, where the position in the list represents which vertex it is coloring. So, for example, a list [0, 1, 0] would mean vertex 0 is colored red, vertex 1 is colored blue, and vertex 2 is also colored red, where number 0 is color red and number 1 is color blue.\n",
    "\n"
   ]
  },
  {
   "cell_type": "code",
   "execution_count": null,
   "metadata": {},
   "outputs": [],
   "source": [
    "#add code here to run just brute force"
   ]
  },
  {
   "cell_type": "markdown",
   "metadata": {},
   "source": [
    "### The Greedy Approach\n",
    "The greedy approach is an extremely efficient coloring approach that goes through each vertex in the list (starting from the first) and finds the lowest possible color that is valid for that vertex. So, for example, Vertex 0 might get Color A, then Vertex 1 is connected to Vertex 0 so it can't get Color A so it gets Color B. Next, Vertex 2 is connected to Vertex 1 but not to Vertex 0, so it can get Color A. This continues until the algorithm reaches the last vertex. The greedy approach does not guarantee a coloring with minimum colors, but it can guarantee an upper bound of $d+1$ colors, where $d$ is the maximum degree of any vertex in the graph. Because of this, the greedy approach is often employed on large graphs where efficiency is necessary and it is acceptable to find something close to the minimum colors. For example, if you are trying to schedule meetings among 200 people, it would be acceptable to have a few more meetings than may have been absolutely necessary in favor of being able to recalculate quickly if someone's schedule changes or a new person is brought in to the group.\n",
    "\n",
    "#### Functions\n",
    "##### greedy\n",
    "Arguments: edge_list\n",
    "Return: color_dict, run_time\n",
    "\n",
    "1. Start the timer\n",
    "2. Create a list to hold the colors for each vertex; to start, fill the list with -1 to indicate this vertex is not colored. Item 0 in the list will be the color of vertex 0, item 1 the color of vertex 1, etc.\n",
    "3. Create a list to hold whether a particular color is available for a particular edge. This list will be the same length as the number of vertices in the graph, and to start will have False for every value. \n",
    "4. Assign the first vertex to the lowest color. Also create a variable to track what the highest color being used is.\n",
    "5. For each vertex in the graph:\n",
    "\n",
    "    5a. To start, loop through all of the adjacencies for that vertex. For each of these adjacencies, note the color of the adjacent vertex and mark that color as not available in the list of available colors.\n",
    "\n",
    "    5b. Starting at the lowest color (0), check whether each color can be used on this particular vertex using the list of available colors we created in 4a. Once you find the lowest possible color that is marked as available in the availability list (and therefore is not already taken by an adjacent vertex), set the color of this vertex to that color.\n",
    "\n",
    "    5c. Add the color for this vertex to the colors list.\n",
    "\n",
    "    5d. If this is a new color (i.e. no other vertices have been colored this color yet), then assign this color to the highest color tracking variable.\n",
    "\n",
    "    5e. Lastly, reset the available colors list to be all False.\n",
    "    \n",
    "6. Stop the timer.\n",
    "7. Convert the colors list into a dictionary with the vertex number as the key (in string format) and the vertex color as the value.\n",
    "8. Calculate the runtime by taking the end time minus the start time.\n",
    "9. Return the color dicitonary and the run time.\n"
   ]
  },
  {
   "cell_type": "code",
   "execution_count": null,
   "metadata": {},
   "outputs": [],
   "source": [
    "#add code here to run just greedy"
   ]
  },
  {
   "cell_type": "markdown",
   "metadata": {},
   "source": [
    "### Greedy vs. Brute Force\n",
    "Add text here about theoretical/math of why greedy is faster and what the drawbacks are."
   ]
  },
  {
   "cell_type": "code",
   "execution_count": null,
   "metadata": {},
   "outputs": [],
   "source": [
    "from code_1 import brute_vs_greedy_with_timeout\n",
    "from code_1 import generate_random_graph\n",
    "\n",
    "#change the numbers below to compare graphs of different sizes!\n",
    "graph = generate_random_graph(25, 20)\n",
    "print(\"Graph created!\")\n",
    "brute_vs_greedy_with_timeout(graph)"
   ]
  },
  {
   "cell_type": "markdown",
   "metadata": {},
   "source": [
    "### Welsh Powell\n",
    "\n",
    "Introduction paragraphs here\n",
    "\n",
    "#### Functions\n",
    "\n",
    "add functions here using the argument, return, sentence, walk through format (see above)"
   ]
  },
  {
   "cell_type": "code",
   "execution_count": null,
   "metadata": {},
   "outputs": [],
   "source": [
    "#run welsh powell sorting; show original sorting vs. welsh powell sorting with num vertices in some kind of table\n",
    "\n",
    "#show randomized greed vs wp graphs"
   ]
  },
  {
   "cell_type": "markdown",
   "metadata": {},
   "source": [
    "### DSatur\n",
    "\n",
    "Intro paragraph here\n",
    "\n",
    "#### Functions\n",
    "add functions here using argument, return, sentence, walkthrough format (see above)"
   ]
  },
  {
   "cell_type": "code",
   "execution_count": null,
   "metadata": {},
   "outputs": [],
   "source": [
    "#run DSatur algorithm\n",
    "\n",
    "#show randomized greedy vs DSatur graphs"
   ]
  },
  {
   "cell_type": "markdown",
   "metadata": {},
   "source": [
    "### Compare and Contrast\n",
    "add a few sentences here\n",
    "add a table comparing randomized, wp, dsatur"
   ]
  },
  {
   "cell_type": "code",
   "execution_count": null,
   "metadata": {},
   "outputs": [],
   "source": [
    "# show randomized, welsh, DSatur graphs side by side"
   ]
  },
  {
   "cell_type": "markdown",
   "metadata": {},
   "source": [
    "### Appendix\n",
    "#### See Past Graphs"
   ]
  },
  {
   "cell_type": "code",
   "execution_count": null,
   "metadata": {},
   "outputs": [],
   "source": [
    "from code_1 import see_all_past_graphs\n",
    "\n",
    "#uncomment to load all of the past saved graphs\n",
    "# see_all_past_graphs()"
   ]
  },
  {
   "cell_type": "markdown",
   "metadata": {},
   "source": [
    "#### Additional Functions\n",
    "These functions are used to create, save, and visualize the graphs in this paper.\n",
    "\n",
    "##### addEdge\n",
    "Arguments: edge_list, vertex_1, vertex_2 \\\n",
    "Return: edge_list\n",
    "\n",
    "This function helps create a graph by connecting two edges together.\n",
    "\n",
    "1. Append vertex_2 to the edge list entry for vertex_1\n",
    "2. Append vertex_1 to the edge list entry for vertex_2\n",
    "\n",
    "##### generate_random_graph\n",
    "Arguments: num_vertices, num_edges \\\n",
    "Returns: edge_list\n",
    "\n",
    "This function generates a random graph with num_vertices vertices and num_edges edges using the random library.\n",
    "\n",
    "1. Check that the number of edges is possible given the number of vertices (i.e. can't make a graph with three vertices and 10 edges)\n",
    "2. Create a blank edge list of length num_vertices. Create a variable to track how many edges you've added to the list so far.\n",
    "3. Until you've added enough edges; pick a two random vertices, check that you didn't pick the same vertex and that there isn't already an edge between them, and then add an edge between them.\n",
    "\n",
    "##### save_graph_data\n",
    "Arguments: edge_list, greedy_colors, greedy_runtime, brute_force_colors, brute_force_runtime \\\n",
    "Return: None\n",
    "\n",
    "This function saves a graph, along with the greedy and brute force colorings and runtimes, into a JSON file.\n",
    "\n",
    "##### create_and_save\n",
    "Arguments: edge_list \\\n",
    "Return: None\n",
    "\n",
    "This function takes in a graph and runs the greedy and brute force colorings, visualizes the graph, and saves the graph. Additionally, it uses the multiprocessing library to observe how long the brute force algorithm takes; if it takes more than a minute, it terminates the brute force calculations and just completes and displays the greedy coloring for that graph. (Note that the run_brute_force function is just a small function used to make the multiprocessing work. You can imagine it as being nested inside create_and_save.)\n",
    "\n",
    "##### see_past_graphs\n",
    "Arguments: edge_list \\\n",
    "Return: None\n",
    "\n",
    "This function opens the JSON file with the saved graphs and runs the visualization for each graph.\n",
    "\n",
    "##### visualize_graphs\n",
    "Arguments: edge_list, greedy_colors, greedy_runtime, brute_force_colors, brute_force_runtime \\\n",
    "Return: None\n",
    "\n",
    "This function takes in the graph and the information for colorings and runtimes and uses the networkx and matplotlib libraries to display a colored graph. In order to make the two graphs as easy to compare as possible, the function has a defined color palette of 50 colors where each colors are as distinct from each other as possible. If the graph is very large, it will raise an error that the palette isn't big enough for that graph, but the palette can be easily manually extended if needed.\n",
    "\n",
    "1. Initialize the graph.\n",
    "2. Convert the edge list to a list of tuples instead of a list of lists so that the format is ready to be added to the graph. Then, add all of the edges to the graph.\n",
    "3. Check whether this graph has a brute force coloration. If it does, calculate the maximum number of colors being used by finding the whether the number of colors in the greedy or brute force calculation is larger. (Note that if everything is working there is no way for the greedy graph to have less colors; we are checking just for extra security.) Also create the list of brute force colors from the brute force colors dictionary.\n",
    "4. If there is no brute for coloration, find the number of colors in the greedy coloration.\n",
    "5. Make sure that the palette has enough colors for this graph.\n",
    "6. Create the list of greedy colors using the greedy colors dictionary.\n",
    "7. Fix the position of the plots. (Remember that you can display the same graph in different ways! This ensures that the two graphs are displayed identically to make them easier to compare.)\n",
    "8. Draw the graph twice, first with the greedy coloring and second with the brute force coloring. Add titles to the graph that include the number of colors in the graph and the runtime that was needed to find this coloring."
   ]
  },
  {
   "cell_type": "markdown",
   "metadata": {},
   "source": [
    "### Sources\n",
    "\n",
    "[1] “Graph Algorithms.”Graph Algorithms, www.cs.cornell.edu/courses/cs3110/2012sp/recitations/rec21-graphs/rec21.html. Accessed 15 Oct. 2023. \n",
    "\n",
    "[2] Graph Coloring Applications in Scheduling Courses Using ... - IEEE Xplore, 17 Nov. 2022, ieeexplore.ieee.org/abstract/document/9944511.\n",
    "\n",
    "[3] “Graph Coloring Using Greedy Algorithm.” GeeksforGeeks, GeeksforGeeks, 10 Oct. 2023, www.geeksforgeeks.org/graph-coloring-set-2-greedy-algorithm/?ref=ml_lbp\\%27.\n",
    "\n",
    "[4] “Introduction to Graph Coloring.” GeeksforGeeks, GeeksforGeeks, 10 Oct. 2023, www.geeksforgeeks.org/graph-coloring-applications/.\n",
    "\n",
    "[5] Kannimuthu, S., et al. “A Novel Approach for Agricultural Decision Making Using Graph Coloring - SN Applied Sciences.” SpringerLink, Springer International Publishing, 6 Dec. 2019, link.springer.com/article/10.1007/s42452-019-1847-8.\n",
    "\n",
    "[6] “NP-Complete Problem.” Encyclopædia Britannica, Encyclopædia Britannica, inc., 6 Oct. 2023, www.britannica.com/science/NP-complete-problem.\n",
    "\n",
    "[7] “Vertex Coloring: The Welsh Powell Algorithm.” Kleemans.Ch, www.kleemans.ch/static/fourcolors/welsh-powell.pdf. Accessed 16 Oct. 2023.\n",
    "\n",
    "[8] Watson, Gordon. “Comparing the Efficiency of Welsh-Powell Algorithm and Basic Greedy Algorithm for Graph Coloring - Graph Theory.” CopyProgramming, 15 May 2023, copyprogramming.com/howto/why-is-welsh-powell-algorithm-better-than-the-basic-greedy-algorithm-for-graph-coloring\n",
    "\n",
    "[9] “Welsh Powell Graph Colouring Algorithm.” GeeksforGeeks, GeeksforGeeks, 29 Oct. 2019, www.geeksforgeeks.org/welsh-powell-graph-colouring-algorithm/."
   ]
  }
 ],
 "metadata": {
  "kernelspec": {
   "display_name": "Python 3",
   "language": "python",
   "name": "python3"
  },
  "language_info": {
   "codemirror_mode": {
    "name": "ipython",
    "version": 3
   },
   "file_extension": ".py",
   "mimetype": "text/x-python",
   "name": "python",
   "nbconvert_exporter": "python",
   "pygments_lexer": "ipython3",
   "version": "3.11.6"
  }
 },
 "nbformat": 4,
 "nbformat_minor": 2
}
