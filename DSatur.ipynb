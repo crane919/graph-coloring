{
 "cells": [
  {
   "cell_type": "markdown",
   "metadata": {},
   "source": [
    "Implementation of the Welsh-Powell Algorithm\n",
    "\n",
    "Sources:\n",
    "\n",
    "GeeksForGeeks"
   ]
  },
  {
   "cell_type": "markdown",
   "metadata": {},
   "source": [
    "The DSatur algorithm is another greedy algorithm that uses fairly similar principles to the Welsh-Powell Algorithm. It determines the fewest number of colors that can be used to color the vertices of a graph so there will be no two adjacent vertices sharing a color. Similar to the Welsh-Powell algorithm the DSatur algorithm optimizes its results by creating an intentional vertex ordering. However, orders the vertices based on which ever uncolored vertex has the highest saturation degree. The saturation degree is based on the number of different colors assigned to the neighboring vertices. The main idea of this algorithm is that it focuses on the \"more constrained\" vertices (high saturation), since there are fewer color options for them. The \"less constrained\" vertices which get colored later since they will have less of an affect on the rest of the graph.\n",
    "\n",
    "This list of vertices will be calculated as the algorithm goes on. Each step, it will check to see which vertex has the highest saturation and assign it a non-conflicting color. The list of uncolored vertices saturation values will be updated, and a new one will be selected. This will go on until all vertices are colored. Any ties will be resolved.\n",
    "\n",
    "The algorithm can be solved in o(n^2) time, where n  is the number of vertices in the graph. PUT MORE EXPLANATION HERE.\n",
    "\n"
   ]
  },
  {
   "cell_type": "markdown",
   "metadata": {},
   "source": [
    "DSatur algorithm steps:\n",
    "\n",
    "1. Create a list of every vertices' saturation*\n",
    "2. Create a list of every vertices' coloring (they should all be -1 to start)\n",
    "3. For every vertex in the graph:\n",
    "\n",
    "    2a. Select the vertex with the highest saturation\n",
    "\n",
    "    2b. Check the other vertices that the selected vertex is next too and find their max color (color is encoded by a number)\n",
    "\n",
    "    2c. Assign a color that has a value of one higher than the max found in the last step to this vertex\n",
    "    \n",
    "    2d. Update the saturation value (subtract 1) of every vertices that is connected to this vertex and is still uncolored\n",
    "\n",
    "    2e. Remove this vertex from the saturation list \n",
    "\n",
    "Saturation: the number of uncolored neighboring vertices\n",
    "\n",
    "Handling of the saturation list can reduce time complexity. For example using a heap or a red black tree, has more efficient searching and remove node capabilities."
   ]
  }
 ],
 "metadata": {
  "kernelspec": {
   "display_name": "Python 3",
   "language": "python",
   "name": "python3"
  },
  "language_info": {
   "codemirror_mode": {
    "name": "ipython",
    "version": 3
   },
   "file_extension": ".py",
   "mimetype": "text/x-python",
   "name": "python",
   "nbconvert_exporter": "python",
   "pygments_lexer": "ipython3",
   "version": "3.11.4"
  }
 },
 "nbformat": 4,
 "nbformat_minor": 2
}
